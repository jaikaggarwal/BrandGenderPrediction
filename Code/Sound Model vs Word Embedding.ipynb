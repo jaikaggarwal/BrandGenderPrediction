{
 "cells": [
  {
   "cell_type": "code",
   "execution_count": 1,
   "metadata": {},
   "outputs": [],
   "source": [
    "import gensim.models.keyedvectors as word2vec\n",
    "import time\n",
    "import pandas as pd\n",
    "import numpy as np\n",
    "from sklearn.metrics.pairwise import cosine_similarity\n",
    "from sklearn.decomposition import PCA\n",
    "from sklearn.preprocessing import normalize\n",
    "import os\n",
    "import matplotlib.pyplot as plt\n",
    "from pylab import *\n",
    "import scipy\n",
    "from sklearn.linear_model import LogisticRegression\n",
    "import warnings\n",
    "from scipy.stats import pearsonr\n",
    "warnings.filterwarnings('ignore')"
   ]
  },
  {
   "cell_type": "markdown",
   "metadata": {},
   "source": [
    "The first block here takes all names encoded and used to train the initial sound symbolism model (from file human_names_coded.csv). A logistic regression is fit using the feature vectors from the sound symbolism study."
   ]
  },
  {
   "cell_type": "code",
   "execution_count": 2,
   "metadata": {},
   "outputs": [
    {
     "data": {
      "text/plain": [
       "LogisticRegression(C=1.0, class_weight=None, dual=False, fit_intercept=True,\n",
       "          intercept_scaling=1, max_iter=100, multi_class='warn',\n",
       "          n_jobs=None, penalty='l2', random_state=None, solver='warn',\n",
       "          tol=0.0001, verbose=0, warm_start=False)"
      ]
     },
     "execution_count": 2,
     "metadata": {},
     "output_type": "execute_result"
    }
   ],
   "source": [
    "df_human = pd.read_csv('../Brand-Name-Gender-Prediction/human_names_coded.csv')\n",
    "df_human = df_human.drop([\"dataID\"], axis=1)\n",
    "df_human = df_human.drop([\"Name\"], axis=1)\n",
    "x = df_human.drop(['Gender', 'is_unique'], axis=1).as_matrix()[:, 1:]\n",
    "y = df_human[['Gender']].as_matrix().ravel()\n",
    "model_LR = LogisticRegression()\n",
    "model_LR.fit(x, y)\n",
    "\n"
   ]
  },
  {
   "cell_type": "markdown",
   "metadata": {},
   "source": [
    "The block below predicts the male/female alignment likelihoods for each brand from the preprocessed Kantar dataset with no duplicates (n=2308). The first index of the logistic regression output is likelihood for being male, the second index is the likelihood for being female. The likelihood for being female is added to \"maps\" to compare with likelihood for being female from previous work we conducted on gender alignment along he-she axis."
   ]
  },
  {
   "cell_type": "code",
   "execution_count": null,
   "metadata": {},
   "outputs": [],
   "source": [
    "df_brands = pd.read_csv('brand_names_coded_no_duplicates.csv')\n",
    "df_brands\n",
    "maps = {}\n",
    "for i in range(len(df_brands.index)):\n",
    "    feature_vec = df_brands.iloc[i][4:].as_matrix().ravel().reshape((1, -1))\n",
    "    x = model_LR.predict_proba(feature_vec)\n",
    "    print(df_brands.iloc[i][2], x)\n",
    "    maps[df_brands.iloc[i][2]] = x[0][1]"
   ]
  },
  {
   "cell_type": "markdown",
   "metadata": {},
   "source": [
    "For all brands in he_she_alignment_just_brands.csv (trained by Word2Vec on Google News corpus), we find the gender alignment by reading from the csv and append it to list he_she. The logistic regression value is added to the corresponding index in list log_reg. "
   ]
  },
  {
   "cell_type": "code",
   "execution_count": 4,
   "metadata": {},
   "outputs": [],
   "source": [
    "df_align = pd.read_csv('he_she_alignment_just_brands.csv')\n",
    "brands = list(maps.keys())\n",
    "log_reg = []\n",
    "he_she = []\n",
    "for index, row in df_align.iterrows():\n",
    "    brand = row['name']\n",
    "    if brand in brands:\n",
    "        log_reg.append(maps[brand])\n",
    "        he_she.append(row['alignment'])\n",
    "        \n"
   ]
  },
  {
   "cell_type": "markdown",
   "metadata": {},
   "source": [
    "Finding the Pearson correlation here (data seems to have normal distribution so assumptions are satisfied)."
   ]
  },
  {
   "cell_type": "code",
   "execution_count": 10,
   "metadata": {},
   "outputs": [
    {
     "name": "stdout",
     "output_type": "stream",
     "text": [
      "Correlation coefficient of 0.125, p-value of 1.5226e-06\n"
     ]
    }
   ],
   "source": [
    "x = pearsonr(he_she, log_reg)\n",
    "vals = list(map(np.round, x, [3, 10]))\n",
    "print(\"Correlation coefficient of {}, p-value of {}\".format(vals[0], vals[1]))"
   ]
  }
 ],
 "metadata": {
  "kernelspec": {
   "display_name": "Python 3",
   "language": "python",
   "name": "python3"
  },
  "language_info": {
   "codemirror_mode": {
    "name": "ipython",
    "version": 3
   },
   "file_extension": ".py",
   "mimetype": "text/x-python",
   "name": "python",
   "nbconvert_exporter": "python",
   "pygments_lexer": "ipython3",
   "version": "3.6.2"
  }
 },
 "nbformat": 4,
 "nbformat_minor": 2
}
