{
 "cells": [
  {
   "cell_type": "code",
   "execution_count": 1,
   "metadata": {},
   "outputs": [],
   "source": [
    "import gensim.models.keyedvectors as word2vec\n",
    "import gensim.models.fasttext as ft\n",
    "import time\n",
    "import pandas as pd\n",
    "import numpy as np\n",
    "from sklearn.metrics.pairwise import cosine_similarity\n",
    "from sklearn.decomposition import PCA\n",
    "from sklearn.preprocessing import normalize\n",
    "import os\n",
    "import matplotlib.pyplot as plt\n",
    "from pylab import *"
   ]
  },
  {
   "cell_type": "code",
   "execution_count": 2,
   "metadata": {},
   "outputs": [],
   "source": [
    "# model = word2vec.KeyedVectors.load_word2vec_format('crawl-300d-2M.vec')\n",
    "model = ft.load_facebook_model('cc.en.300.bin', encoding='utf-8')\n",
    "#https://datascience.stackexchange.com/questions/20071/how-do-i-load-fasttext-pretrained-model-with-gensim\n",
    "# model_vocab = [key.lower() for key in model.vocab.keys()]\n",
    "vex = {}"
   ]
  },
  {
   "cell_type": "code",
   "execution_count": 10,
   "metadata": {},
   "outputs": [],
   "source": [
    "def get_simple_alignment(brand, gender_subspace):\n",
    "#     try:\n",
    "#         \n",
    "#     except KeyError:\n",
    "        \n",
    "#         index = model_vocab.index(brand)\n",
    "#         word_vec = model.get_vector(model.index2entity[index])\n",
    "    word_vec = model.wv[brand.capitalize()]\n",
    "    word_vec = normalize(word_vec.reshape(1, -1))\n",
    "    gen_comp = np.vdot(word_vec, gender_subspace)\n",
    "#     if gen_comp < 0:\n",
    "#         return 'M'\n",
    "#     else:\n",
    "#         return 'F'\n",
    "    return gen_comp"
   ]
  },
  {
   "cell_type": "code",
   "execution_count": 6,
   "metadata": {},
   "outputs": [],
   "source": [
    "female = []\n",
    "male = []\n",
    "with open('pairs_paper.txt', 'r') as file:\n",
    "    data = file.readlines()\n",
    "    data = [line.strip() for line in data]\n",
    "    for line in data:\n",
    "        sub = line.split(', ')\n",
    "        fem_vec = model.wv[sub[0]]\n",
    "        male_vec = model.wv[sub[1]]\n",
    "        female.append(fem_vec)\n",
    "        male.append(male_vec)\n",
    "        vec = np.subtract(fem_vec, male_vec)\n",
    "        vex[line] = vec\n"
   ]
  },
  {
   "cell_type": "code",
   "execution_count": 7,
   "metadata": {},
   "outputs": [],
   "source": [
    "she_vec = normalize(female[0].reshape(1, -1))\n",
    "he_vec = normalize(male[0].reshape(1, -1))\n",
    "he_she_axis = np.subtract(she_vec, he_vec)"
   ]
  },
  {
   "cell_type": "code",
   "execution_count": 13,
   "metadata": {},
   "outputs": [
    {
     "name": "stdout",
     "output_type": "stream",
     "text": [
      "(2308, 19)\n"
     ]
    }
   ],
   "source": [
    "# df_brands = pd.read_csv('brand_names_coded_no_duplicates.csv')\n",
    "df_brands = pd.read_csv('../Preprocessing/brand_names_coded.csv')\n",
    "# df_brands = df_brands[df_brands['BRAND'].isin(model_vocab)]\n",
    "df_brands = df_brands.drop_duplicates(subset='BRAND')\n",
    "print(df_brands.shape)\n",
    "df_brands['ALIGNMENT'] = df_brands['BRAND'].apply(lambda x: get_simple_alignment(x, he_she_axis))\n",
    "df_brands = df_brands.reset_index()\n",
    "df_brands = df_brands[['BRAND', 'CATEGORY', 'ALIGNMENT']]\n",
    "df_brands.sort_values(by='ALIGNMENT').to_csv('ftcc_he_she_alignment_all.csv')"
   ]
  },
  {
   "cell_type": "code",
   "execution_count": 14,
   "metadata": {},
   "outputs": [],
   "source": [
    "df_brands['gender'] = df_brands['ALIGNMENT'].apply(lambda x: 'M' if x < 0 else 'F')\n",
    "df_brands['gender'].value_counts()\n",
    "df_brands.drop_duplicates(subset='BRAND').groupby('CATEGORY')['gender'].value_counts().to_csv('ftcc_he_she_category_value_counts_all.csv')\n"
   ]
  },
  {
   "cell_type": "code",
   "execution_count": null,
   "metadata": {},
   "outputs": [],
   "source": [
    "#Filter out brands that are names\n",
    "df_k = pd.read_csv('check_kantrowitz.csv')\n",
    "df_ip = pd.read_csv('check_ipums.csv')\n",
    "df_napp = pd.read_csv('check_napp.csv')\n",
    "df_ssa = pd.read_csv('check_ssa.csv')\n",
    "\n",
    "df_k = df_k.transpose()\n",
    "k = df_k[df_k[1].isin(['male', 'female', 'either'])][0].tolist()\n",
    "ip = df_ip.loc[0].tolist()[1:]\n",
    "napp = df_napp.loc[0].tolist()[1:]\n",
    "ssa = df_ssa.loc[0].tolist()[1:]"
   ]
  },
  {
   "cell_type": "code",
   "execution_count": null,
   "metadata": {},
   "outputs": [],
   "source": [
    "all_gendered_brands = list(set(k).union(set(ip)).union(set(napp)).union(set(ssa)))\n",
    "df_no_names = df_brands[~df_brands['BRAND'].isin(all_gendered_brands)]\n",
    "df_no_names['gender'] = df_no_names['ALIGNMENT'].apply(lambda x: 'M' if x < 0 else 'F')\n",
    "df_no_names.drop_duplicates(subset='BRAND').sort_values(by='ALIGNMENT').to_csv('ftcc_he_she_alignment_just_brands_no_names_all.csv')\n",
    "df_no_names.drop_duplicates(subset='BRAND').groupby('CATEGORY')['gender'].value_counts().to_csv('ftcc_he_she_category_value_counts_no_names_all.csv')"
   ]
  },
  {
   "cell_type": "code",
   "execution_count": null,
   "metadata": {},
   "outputs": [],
   "source": []
  },
  {
   "cell_type": "code",
   "execution_count": null,
   "metadata": {},
   "outputs": [],
   "source": []
  }
 ],
 "metadata": {
  "kernelspec": {
   "display_name": "Python 3",
   "language": "python",
   "name": "python3"
  },
  "language_info": {
   "codemirror_mode": {
    "name": "ipython",
    "version": 3
   },
   "file_extension": ".py",
   "mimetype": "text/x-python",
   "name": "python",
   "nbconvert_exporter": "python",
   "pygments_lexer": "ipython3",
   "version": "3.6.2"
  }
 },
 "nbformat": 4,
 "nbformat_minor": 2
}
