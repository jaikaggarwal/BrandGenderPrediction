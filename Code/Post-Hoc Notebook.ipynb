{
 "cells": [
  {
   "cell_type": "code",
   "execution_count": 1,
   "metadata": {},
   "outputs": [],
   "source": [
    "import sys\n",
    "import pandas as pd\n",
    "import numpy as np\n",
    "from sklearn.linear_model import LogisticRegression\n",
    "import warnings\n",
    "warnings.filterwarnings('ignore')"
   ]
  },
  {
   "cell_type": "code",
   "execution_count": 2,
   "metadata": {
    "scrolled": true
   },
   "outputs": [],
   "source": [
    "#sys.stdout = open('post-hoc.txt', 'w')\n",
    "k = 20"
   ]
  },
  {
   "cell_type": "code",
   "execution_count": 3,
   "metadata": {},
   "outputs": [],
   "source": [
    "df_all_agreed = pd.read_csv('../Brand-Name-Gender-Prediction/all_agreed.csv')\n",
    "df_all_agreed.drop(labels=['Old Index'], axis=1, inplace=True)\n",
    "df_all_agreed = df_all_agreed.reset_index()"
   ]
  },
  {
   "cell_type": "code",
   "execution_count": 4,
   "metadata": {},
   "outputs": [],
   "source": [
    "df_majority = pd.read_csv('../Brand-Name-Gender-Prediction/majority_brand_predictions.csv')\n",
    "df_majority.drop(labels=['Old Index'], axis=1, inplace=True)\n",
    "df_majority = df_majority.reset_index()\n"
   ]
  },
  {
   "cell_type": "code",
   "execution_count": 6,
   "metadata": {},
   "outputs": [],
   "source": [
    "df_weat = pd.read_csv('unnormalized_weat.csv')\n",
    "df_weat.drop(labels=['Old Index'], axis=1, inplace=True, errors='ignore')\n",
    "df_weat = df_weat.reset_index()"
   ]
  },
  {
   "cell_type": "markdown",
   "metadata": {},
   "source": [
    "This below section is for exploring data in the WEAT table, and showing how many brands are in each category in the WEAT model."
   ]
  },
  {
   "cell_type": "code",
   "execution_count": 7,
   "metadata": {
    "scrolled": true
   },
   "outputs": [
    {
     "name": "stdout",
     "output_type": "stream",
     "text": [
      "Number of brands in WEAT: 1610\n",
      "Number of categories in WEAT: 72\n",
      "Brands per category:\n",
      "CATEGORY\n",
      "A141 Sportswear & Athleticwear                                                     107\n",
      "A311 Womens Shoes & Boots                                                           49\n",
      "A321 Sneakers                                                                       34\n",
      "A411 Handbags                                                                       39\n",
      "A430 Sunglasses                                                                     31\n",
      "B111 Credit Cards                                                                   28\n",
      "B122 Investment Products & Services (Excluding Retirement)                          82\n",
      "B124 Loan/Credit Products & Services (Consumer)                                     43\n",
      "B225 Internet Service Providers (ISP)                                               53\n",
      "B241 Cable TV Providers & Systems                                                   15\n",
      "B322 Religious, Charitable & Humanitarian                                           10\n",
      "B430 Insurance Agencies & Brokers                                                   13\n",
      "B511 Desktop Computers                                                               9\n",
      "B521 Printers & Printing Accessories                                                14\n",
      "B541 Web Design, Domain & Hosting Services                                          12\n",
      "B641 TV Networks, Stations & Production Cos                                         35\n",
      "B651 Advertising, Marketing & Printing Svcs                                         54\n",
      "B721 Office Furniture & Accessories                                                 21\n",
      "B722 Stationery,Greeting Cards&Misc Paper Gds                                       24\n",
      "B913 Employment Agencies                                                            22\n",
      "D119 Skin Care Products, General Promotion/Multi-Category/Corporate/Sponsorship     38\n",
      "D149 Face Makeup, General Promotion/Multi-Category/Corporate/Sponsorship             5\n",
      "D181 Women's Scents, Fragrances, Perfumes                                           12\n",
      "D182 Unisex Scents, Fragrances, Perfumes                                             1\n",
      "D183 Men's Scents, Fragrances, Aftershaves                                           9\n",
      "D189 Fragrances, General Promotion/Multi-Category/Corporate/Sponsorship              5\n",
      "D211 Toothpaste & Whiteners                                                          7\n",
      "D259 Womens Shaving Supplies General Promotion                                       1\n",
      "D269 Deodorants & Antiperspirants General Promotion                                  1\n",
      "D439 Mens Shaving Equipment & Supplies General Promotion                             8\n",
      "D511 Pain Remedies                                                                   9\n",
      "D529 Cold, Cough, Sinus & Asthma Remdies:Comb & NEC                                  6\n",
      "D543 Nutritional Supplements                                                       106\n",
      "F113 Artificial Sweeteners                                                           8\n",
      "F122 Cooking Oils                                                                   20\n",
      "F229 Cereals General Promotion                                                       2\n",
      "F259 Pasta & Pasta Dishes General Promotion                                          2\n",
      "F280 Peanut Butter & Sandwich Spreads                                                9\n",
      "F313 Ice Cream, Frozen Novelties & Sherbet                                          38\n",
      "F343 Cookies & Crackers                                                             32\n",
      "F411 Coffee                                                                         14\n",
      "F413 Cocoa & Milk Additives                                                          7\n",
      "F519 Candy & Mints General Promotion                                                 8\n",
      "F539 Chips, Nuts, Popcorn & Pretzels General Promotion                              14\n",
      "F611 Regular Beer & Ale                                                             62\n",
      "G141 Cameras (Excl Video)                                                           22\n",
      "G323 Casual Dining Restaurants                                                      49\n",
      "G324 Coffee & Donut Restaurants                                                      3\n",
      "G411 Fishing Tackle & Equipment                                                     43\n",
      "G451 Snow Skis, Boards, Blades & Accessories                                        16\n",
      "G499 Sporting Goods General Promotion                                               30\n",
      "G511 Elec & Video Games & Sftwr (Excl PC&Net)                                       12\n",
      "G541 Stuffed Toys                                                                    1\n",
      "G613 Cat & Dog Food Combination                                                     10\n",
      "H111 Dinnerware, Glassware & Pottery                                                33\n",
      "H122 Mattresses & Box Springs                                                       38\n",
      "H142 Bedding & Linens                                                               40\n",
      "H213 Laundry Equipment                                                              11\n",
      "H310 Household Batteries                                                             9\n",
      "H339 Household Paper Products: Comb & NEC                                           12\n",
      "H413 Dishwashing Detergents                                                          3\n",
      "H432 Multipurpose Cleaners (Cleansers)                                               4\n",
      "H625 Security & Fire Safety Systems                                                 88\n",
      "H631 Paint                                                                          10\n",
      "T139 Vehicles, Sales & Leasing: Comb Copy&NEC                                       16\n",
      "T141 Automotive Batteries                                                            4\n",
      "T412 Cruise Ship Travel                                                             20\n",
      "T421 Travel Services                                                                 6\n",
      "T440 Amusement, Water & Theme Parks                                                  2\n",
      "V131 Beauty Shops                                                                    2\n",
      "V363 Toy Stores                                                                      2\n",
      "V365 Sporting Goods Stores                                                           5\n",
      "\n",
      "\n"
     ]
    }
   ],
   "source": [
    "brands_weat = df_weat['BRAND'].tolist()\n",
    "print('Number of brands in WEAT: {}'.format(len(brands_weat)))\n",
    "print('Number of categories in WEAT: {}'.format(df_weat['CATEGORY'].nunique()))\n",
    "print('Brands per category:')\n",
    "count = df_weat.groupby('CATEGORY').count()\n",
    "print(count['BRAND'].to_string())\n",
    "print('\\n')"
   ]
  },
  {
   "cell_type": "code",
   "execution_count": 8,
   "metadata": {},
   "outputs": [
    {
     "name": "stdout",
     "output_type": "stream",
     "text": [
      "Getting rid of categories with fewer than 15 entries, we are left with:\n",
      "Number of brands in Trimmed WEAT: 1328\n",
      "Number of categories in Trimmed WEAT: 32\n",
      "Brands per category:\n",
      "CATEGORY\n",
      "A141 Sportswear & Athleticwear                                                     107\n",
      "A311 Womens Shoes & Boots                                                           49\n",
      "A321 Sneakers                                                                       34\n",
      "A411 Handbags                                                                       39\n",
      "A430 Sunglasses                                                                     31\n",
      "B111 Credit Cards                                                                   28\n",
      "B122 Investment Products & Services (Excluding Retirement)                          82\n",
      "B124 Loan/Credit Products & Services (Consumer)                                     43\n",
      "B225 Internet Service Providers (ISP)                                               53\n",
      "B241 Cable TV Providers & Systems                                                   15\n",
      "B641 TV Networks, Stations & Production Cos                                         35\n",
      "B651 Advertising, Marketing & Printing Svcs                                         54\n",
      "B721 Office Furniture & Accessories                                                 21\n",
      "B722 Stationery,Greeting Cards&Misc Paper Gds                                       24\n",
      "B913 Employment Agencies                                                            22\n",
      "D119 Skin Care Products, General Promotion/Multi-Category/Corporate/Sponsorship     38\n",
      "D543 Nutritional Supplements                                                       106\n",
      "F122 Cooking Oils                                                                   20\n",
      "F313 Ice Cream, Frozen Novelties & Sherbet                                          38\n",
      "F343 Cookies & Crackers                                                             32\n",
      "F611 Regular Beer & Ale                                                             62\n",
      "G141 Cameras (Excl Video)                                                           22\n",
      "G323 Casual Dining Restaurants                                                      49\n",
      "G411 Fishing Tackle & Equipment                                                     43\n",
      "G451 Snow Skis, Boards, Blades & Accessories                                        16\n",
      "G499 Sporting Goods General Promotion                                               30\n",
      "H111 Dinnerware, Glassware & Pottery                                                33\n",
      "H122 Mattresses & Box Springs                                                       38\n",
      "H142 Bedding & Linens                                                               40\n",
      "H625 Security & Fire Safety Systems                                                 88\n",
      "T139 Vehicles, Sales & Leasing: Comb Copy&NEC                                       16\n",
      "T412 Cruise Ship Travel                                                             20\n",
      "\n",
      "\n"
     ]
    }
   ],
   "source": [
    "print('Getting rid of categories with fewer than 15 entries, we are left with:')\n",
    "categories_trimmed_weat = count[count['BRAND'] >= 15].index.tolist()\n",
    "df_weat_trimmed = df_weat[df_weat['CATEGORY'].isin(categories_trimmed_weat)]\n",
    "brands_weat_trimmed = df_weat_trimmed['BRAND'].tolist()\n",
    "print('Number of brands in Trimmed WEAT: {}'.format(len(brands_weat_trimmed)))\n",
    "print('Number of categories in Trimmed WEAT: {}'.format(len(categories_trimmed_weat)))\n",
    "print('Brands per category:')\n",
    "count_trimmed = df_weat_trimmed.groupby('CATEGORY').count()\n",
    "print(count_trimmed['BRAND'].to_string())\n",
    "pd.DataFrame(count_trimmed)['BRAND'].to_csv(\"trimmed_weat.csv\")\n",
    "print('\\n')"
   ]
  },
  {
   "cell_type": "code",
   "execution_count": 9,
   "metadata": {},
   "outputs": [
    {
     "name": "stdout",
     "output_type": "stream",
     "text": [
      "Number of brands in All Agreed and WEAT: 1109\n",
      "Number of categories in All Agreed and WEAT: 72\n",
      "Brands per category:\n",
      "Category\n",
      "A141 Sportswear & Athleticwear                                                     81\n",
      "A311 Womens Shoes & Boots                                                          30\n",
      "A321 Sneakers                                                                      23\n",
      "A411 Handbags                                                                      26\n",
      "A430 Sunglasses                                                                    24\n",
      "B111 Credit Cards                                                                  18\n",
      "B122 Investment Products & Services (Excluding Retirement)                         54\n",
      "B124 Loan/Credit Products & Services (Consumer)                                    33\n",
      "B225 Internet Service Providers (ISP)                                              34\n",
      "B241 Cable TV Providers & Systems                                                  13\n",
      "B322 Religious, Charitable & Humanitarian                                           6\n",
      "B430 Insurance Agencies & Brokers                                                   8\n",
      "B511 Desktop Computers                                                              7\n",
      "B521 Printers & Printing Accessories                                                9\n",
      "B541 Web Design, Domain & Hosting Services                                          8\n",
      "B641 TV Networks, Stations & Production Cos                                        23\n",
      "B651 Advertising, Marketing & Printing Svcs                                        33\n",
      "B721 Office Furniture & Accessories                                                17\n",
      "B722 Stationery,Greeting Cards&Misc Paper Gds                                      17\n",
      "B913 Employment Agencies                                                           11\n",
      "D119 Skin Care Products, General Promotion/Multi-Category/Corporate/Sponsorship    26\n",
      "D149 Face Makeup, General Promotion/Multi-Category/Corporate/Sponsorship            4\n",
      "D181 Women's Scents, Fragrances, Perfumes                                           7\n",
      "D182 Unisex Scents, Fragrances, Perfumes                                            1\n",
      "D183 Men's Scents, Fragrances, Aftershaves                                          5\n",
      "D189 Fragrances, General Promotion/Multi-Category/Corporate/Sponsorship             3\n",
      "D211 Toothpaste & Whiteners                                                         5\n",
      "D259 Womens Shaving Supplies General Promotion                                      1\n",
      "D269 Deodorants & Antiperspirants General Promotion                                 1\n",
      "D439 Mens Shaving Equipment & Supplies General Promotion                            6\n",
      "D511 Pain Remedies                                                                  7\n",
      "D529 Cold, Cough, Sinus & Asthma Remdies:Comb & NEC                                 4\n",
      "D543 Nutritional Supplements                                                       67\n",
      "F113 Artificial Sweeteners                                                          5\n",
      "F122 Cooking Oils                                                                  12\n",
      "F229 Cereals General Promotion                                                      1\n",
      "F259 Pasta & Pasta Dishes General Promotion                                         2\n",
      "F280 Peanut Butter & Sandwich Spreads                                               8\n",
      "F313 Ice Cream, Frozen Novelties & Sherbet                                         27\n",
      "F343 Cookies & Crackers                                                            23\n",
      "F411 Coffee                                                                        12\n",
      "F413 Cocoa & Milk Additives                                                         4\n",
      "F519 Candy & Mints General Promotion                                                7\n",
      "F539 Chips, Nuts, Popcorn & Pretzels General Promotion                              7\n",
      "F611 Regular Beer & Ale                                                            42\n",
      "G141 Cameras (Excl Video)                                                          16\n",
      "G323 Casual Dining Restaurants                                                     36\n",
      "G324 Coffee & Donut Restaurants                                                     2\n",
      "G411 Fishing Tackle & Equipment                                                    30\n",
      "G451 Snow Skis, Boards, Blades & Accessories                                       14\n",
      "G499 Sporting Goods General Promotion                                              19\n",
      "G511 Elec & Video Games & Sftwr (Excl PC&Net)                                       9\n",
      "G541 Stuffed Toys                                                                   1\n",
      "G613 Cat & Dog Food Combination                                                     7\n",
      "H111 Dinnerware, Glassware & Pottery                                               26\n",
      "H122 Mattresses & Box Springs                                                      27\n",
      "H142 Bedding & Linens                                                              28\n",
      "H213 Laundry Equipment                                                              7\n",
      "H310 Household Batteries                                                            4\n",
      "H339 Household Paper Products: Comb & NEC                                           9\n",
      "H413 Dishwashing Detergents                                                         1\n",
      "H432 Multipurpose Cleaners (Cleansers)                                              2\n",
      "H625 Security & Fire Safety Systems                                                63\n",
      "H631 Paint                                                                          8\n",
      "T139 Vehicles, Sales & Leasing: Comb Copy&NEC                                       8\n",
      "T141 Automotive Batteries                                                           3\n",
      "T412 Cruise Ship Travel                                                            14\n",
      "T421 Travel Services                                                                5\n",
      "T440 Amusement, Water & Theme Parks                                                 1\n",
      "V131 Beauty Shops                                                                   2\n",
      "V363 Toy Stores                                                                     2\n",
      "V365 Sporting Goods Stores                                                          3\n",
      "\n",
      "\n"
     ]
    }
   ],
   "source": [
    "df_all_agreed = df_all_agreed[df_all_agreed['Name'].isin(brands_weat)]\n",
    "brands_all_and_weat = df_all_agreed['Name'].tolist()\n",
    "print('Number of brands in All Agreed and WEAT: {}'.format(len(brands_all_and_weat)))\n",
    "print('Number of categories in All Agreed and WEAT: {}'.format(df_all_agreed['Category'].nunique()))\n",
    "print('Brands per category:')\n",
    "count = df_all_agreed.groupby('Category').count()\n",
    "print(count['Name'].to_string())\n",
    "print('\\n')"
   ]
  },
  {
   "cell_type": "code",
   "execution_count": 10,
   "metadata": {},
   "outputs": [
    {
     "name": "stdout",
     "output_type": "stream",
     "text": [
      "Getting rid of categories with fewer than 15 entries, we are left with:\n",
      "Number of brands in Trimmed All Agreed and WEAT: 843\n",
      "Number of categories in Trimmed All Agreed and WEAT: 26\n",
      "Brands per category:\n",
      "Category\n",
      "A141 Sportswear & Athleticwear                                                     81\n",
      "A311 Womens Shoes & Boots                                                          30\n",
      "A321 Sneakers                                                                      23\n",
      "A411 Handbags                                                                      26\n",
      "A430 Sunglasses                                                                    24\n",
      "B111 Credit Cards                                                                  18\n",
      "B122 Investment Products & Services (Excluding Retirement)                         54\n",
      "B124 Loan/Credit Products & Services (Consumer)                                    33\n",
      "B225 Internet Service Providers (ISP)                                              34\n",
      "B641 TV Networks, Stations & Production Cos                                        23\n",
      "B651 Advertising, Marketing & Printing Svcs                                        33\n",
      "B721 Office Furniture & Accessories                                                17\n",
      "B722 Stationery,Greeting Cards&Misc Paper Gds                                      17\n",
      "D119 Skin Care Products, General Promotion/Multi-Category/Corporate/Sponsorship    26\n",
      "D543 Nutritional Supplements                                                       67\n",
      "F313 Ice Cream, Frozen Novelties & Sherbet                                         27\n",
      "F343 Cookies & Crackers                                                            23\n",
      "F611 Regular Beer & Ale                                                            42\n",
      "G141 Cameras (Excl Video)                                                          16\n",
      "G323 Casual Dining Restaurants                                                     36\n",
      "G411 Fishing Tackle & Equipment                                                    30\n",
      "G499 Sporting Goods General Promotion                                              19\n",
      "H111 Dinnerware, Glassware & Pottery                                               26\n",
      "H122 Mattresses & Box Springs                                                      27\n",
      "H142 Bedding & Linens                                                              28\n",
      "H625 Security & Fire Safety Systems                                                63\n",
      "\n",
      "\n"
     ]
    }
   ],
   "source": [
    "print('Getting rid of categories with fewer than 15 entries, we are left with:')\n",
    "categories_trimmed_aaw = count[count['Name'] >= 15].index.tolist()\n",
    "df_all_trimmed = df_all_agreed[df_all_agreed['Category'].isin(categories_trimmed_aaw)]\n",
    "brands_aaw_trimmed = df_all_trimmed['Name'].tolist()\n",
    "print('Number of brands in Trimmed All Agreed and WEAT: {}'.format(len(brands_aaw_trimmed)))\n",
    "print('Number of categories in Trimmed All Agreed and WEAT: {}'.format(len(categories_trimmed_aaw)))\n",
    "print('Brands per category:')\n",
    "count_trimmed = df_all_trimmed.groupby('Category').count()\n",
    "print(count_trimmed['Name'].to_string())\n",
    "pd.DataFrame(count_trimmed)['Name'].to_csv(\"trimmed_all_agree_weat.csv\")\n",
    "print('\\n')"
   ]
  },
  {
   "cell_type": "code",
   "execution_count": 11,
   "metadata": {},
   "outputs": [
    {
     "name": "stdout",
     "output_type": "stream",
     "text": [
      "Number of brands in Majority Agreed and WEAT: 1610\n",
      "Number of categories in Majority Agreed and WEAT: 72\n",
      "Brands per category:\n",
      "Category\n",
      "A141 Sportswear & Athleticwear                                                     107\n",
      "A311 Womens Shoes & Boots                                                           49\n",
      "A321 Sneakers                                                                       34\n",
      "A411 Handbags                                                                       39\n",
      "A430 Sunglasses                                                                     31\n",
      "B111 Credit Cards                                                                   28\n",
      "B122 Investment Products & Services (Excluding Retirement)                          82\n",
      "B124 Loan/Credit Products & Services (Consumer)                                     43\n",
      "B225 Internet Service Providers (ISP)                                               53\n",
      "B241 Cable TV Providers & Systems                                                   15\n",
      "B322 Religious, Charitable & Humanitarian                                           10\n",
      "B430 Insurance Agencies & Brokers                                                   13\n",
      "B511 Desktop Computers                                                               9\n",
      "B521 Printers & Printing Accessories                                                14\n",
      "B541 Web Design, Domain & Hosting Services                                          12\n",
      "B641 TV Networks, Stations & Production Cos                                         35\n",
      "B651 Advertising, Marketing & Printing Svcs                                         54\n",
      "B721 Office Furniture & Accessories                                                 21\n",
      "B722 Stationery,Greeting Cards&Misc Paper Gds                                       24\n",
      "B913 Employment Agencies                                                            22\n",
      "D119 Skin Care Products, General Promotion/Multi-Category/Corporate/Sponsorship     38\n",
      "D149 Face Makeup, General Promotion/Multi-Category/Corporate/Sponsorship             5\n",
      "D181 Women's Scents, Fragrances, Perfumes                                           12\n",
      "D182 Unisex Scents, Fragrances, Perfumes                                             1\n",
      "D183 Men's Scents, Fragrances, Aftershaves                                           9\n",
      "D189 Fragrances, General Promotion/Multi-Category/Corporate/Sponsorship              5\n",
      "D211 Toothpaste & Whiteners                                                          7\n",
      "D259 Womens Shaving Supplies General Promotion                                       1\n",
      "D269 Deodorants & Antiperspirants General Promotion                                  1\n",
      "D439 Mens Shaving Equipment & Supplies General Promotion                             8\n",
      "D511 Pain Remedies                                                                   9\n",
      "D529 Cold, Cough, Sinus & Asthma Remdies:Comb & NEC                                  6\n",
      "D543 Nutritional Supplements                                                       106\n",
      "F113 Artificial Sweeteners                                                           8\n",
      "F122 Cooking Oils                                                                   20\n",
      "F229 Cereals General Promotion                                                       2\n",
      "F259 Pasta & Pasta Dishes General Promotion                                          2\n",
      "F280 Peanut Butter & Sandwich Spreads                                                9\n",
      "F313 Ice Cream, Frozen Novelties & Sherbet                                          38\n",
      "F343 Cookies & Crackers                                                             32\n",
      "F411 Coffee                                                                         14\n",
      "F413 Cocoa & Milk Additives                                                          7\n",
      "F519 Candy & Mints General Promotion                                                 8\n",
      "F539 Chips, Nuts, Popcorn & Pretzels General Promotion                              14\n",
      "F611 Regular Beer & Ale                                                             62\n",
      "G141 Cameras (Excl Video)                                                           22\n",
      "G323 Casual Dining Restaurants                                                      49\n",
      "G324 Coffee & Donut Restaurants                                                      3\n",
      "G411 Fishing Tackle & Equipment                                                     43\n",
      "G451 Snow Skis, Boards, Blades & Accessories                                        16\n",
      "G499 Sporting Goods General Promotion                                               30\n",
      "G511 Elec & Video Games & Sftwr (Excl PC&Net)                                       12\n",
      "G541 Stuffed Toys                                                                    1\n",
      "G613 Cat & Dog Food Combination                                                     10\n",
      "H111 Dinnerware, Glassware & Pottery                                                33\n",
      "H122 Mattresses & Box Springs                                                       38\n",
      "H142 Bedding & Linens                                                               40\n",
      "H213 Laundry Equipment                                                              11\n",
      "H310 Household Batteries                                                             9\n",
      "H339 Household Paper Products: Comb & NEC                                           12\n",
      "H413 Dishwashing Detergents                                                          3\n",
      "H432 Multipurpose Cleaners (Cleansers)                                               4\n",
      "H625 Security & Fire Safety Systems                                                 88\n",
      "H631 Paint                                                                          10\n",
      "T139 Vehicles, Sales & Leasing: Comb Copy&NEC                                       16\n",
      "T141 Automotive Batteries                                                            4\n",
      "T412 Cruise Ship Travel                                                             20\n",
      "T421 Travel Services                                                                 6\n",
      "T440 Amusement, Water & Theme Parks                                                  2\n",
      "V131 Beauty Shops                                                                    2\n",
      "V363 Toy Stores                                                                      2\n",
      "V365 Sporting Goods Stores                                                           5\n",
      "\n",
      "\n"
     ]
    }
   ],
   "source": [
    "df_majority = df_majority[df_majority['Name'].isin(brands_weat)]\n",
    "brands_maj_and_weat = df_majority['Name'].tolist()\n",
    "print('Number of brands in Majority Agreed and WEAT: {}'.format(len(brands_maj_and_weat)))\n",
    "print('Number of categories in Majority Agreed and WEAT: {}'.format(df_majority['Category'].nunique()))\n",
    "print('Brands per category:')\n",
    "count = df_majority.groupby('Category').count()\n",
    "print(count['Name'].to_string())\n",
    "print('\\n')"
   ]
  },
  {
   "cell_type": "code",
   "execution_count": 12,
   "metadata": {},
   "outputs": [
    {
     "name": "stdout",
     "output_type": "stream",
     "text": [
      "Getting rid of categories with fewer than 15 entries, we are left with:\n",
      "Number of brands in Trimmed Majority Agreed and WEAT: 1328\n",
      "Number of categories in Trimmed Majority Agreed and WEAT: 32\n",
      "Brands per category:\n",
      "Category\n",
      "A141 Sportswear & Athleticwear                                                     107\n",
      "A311 Womens Shoes & Boots                                                           49\n",
      "A321 Sneakers                                                                       34\n",
      "A411 Handbags                                                                       39\n",
      "A430 Sunglasses                                                                     31\n",
      "B111 Credit Cards                                                                   28\n",
      "B122 Investment Products & Services (Excluding Retirement)                          82\n",
      "B124 Loan/Credit Products & Services (Consumer)                                     43\n",
      "B225 Internet Service Providers (ISP)                                               53\n",
      "B241 Cable TV Providers & Systems                                                   15\n",
      "B641 TV Networks, Stations & Production Cos                                         35\n",
      "B651 Advertising, Marketing & Printing Svcs                                         54\n",
      "B721 Office Furniture & Accessories                                                 21\n",
      "B722 Stationery,Greeting Cards&Misc Paper Gds                                       24\n",
      "B913 Employment Agencies                                                            22\n",
      "D119 Skin Care Products, General Promotion/Multi-Category/Corporate/Sponsorship     38\n",
      "D543 Nutritional Supplements                                                       106\n",
      "F122 Cooking Oils                                                                   20\n",
      "F313 Ice Cream, Frozen Novelties & Sherbet                                          38\n",
      "F343 Cookies & Crackers                                                             32\n",
      "F611 Regular Beer & Ale                                                             62\n",
      "G141 Cameras (Excl Video)                                                           22\n",
      "G323 Casual Dining Restaurants                                                      49\n",
      "G411 Fishing Tackle & Equipment                                                     43\n",
      "G451 Snow Skis, Boards, Blades & Accessories                                        16\n",
      "G499 Sporting Goods General Promotion                                               30\n",
      "H111 Dinnerware, Glassware & Pottery                                                33\n",
      "H122 Mattresses & Box Springs                                                       38\n",
      "H142 Bedding & Linens                                                               40\n",
      "H625 Security & Fire Safety Systems                                                 88\n",
      "T139 Vehicles, Sales & Leasing: Comb Copy&NEC                                       16\n",
      "T412 Cruise Ship Travel                                                             20\n",
      "\n",
      "\n"
     ]
    }
   ],
   "source": [
    "print('Getting rid of categories with fewer than 15 entries, we are left with:')\n",
    "categories_trimmed_maw = count[count['Name'] >= 15].index.tolist()\n",
    "df_maj_trimmed = df_majority[df_majority['Category'].isin(categories_trimmed_maw)]\n",
    "brands_maw_trimmed = df_maj_trimmed['Name'].tolist()\n",
    "print('Number of brands in Trimmed Majority Agreed and WEAT: {}'.format(len(brands_maw_trimmed)))\n",
    "print('Number of categories in Trimmed Majority Agreed and WEAT: {}'.format(len(categories_trimmed_maw)))\n",
    "print('Brands per category:')\n",
    "count_trimmed = df_maj_trimmed.groupby('Category').count()\n",
    "print(count_trimmed['Name'].to_string())\n",
    "pd.DataFrame(count_trimmed)['Name'].to_csv(\"trimmed_maj_agree_weat.csv\")\n",
    "print('\\n')"
   ]
  },
  {
   "cell_type": "code",
   "execution_count": 14,
   "metadata": {},
   "outputs": [],
   "source": [
    "x = df_weat_trimmed.groupby('CATEGORY')['UNNORMALIZED WEAT GENDER'].value_counts()\n",
    "y = df_all_trimmed.groupby('Category')['Gender'].value_counts()\n",
    "z = df_maj_trimmed.groupby('Category')['Gender'].value_counts()\n",
    "\n",
    "# pd.DataFrame(x).to_csv(\"trimmed_weat_overall_gender_dist.csv\")\n",
    "# pd.DataFrame(y).to_csv(\"trimmed_all_agree_weat_overall_gender_dist.csv\")\n",
    "# pd.DataFrame(z).to_csv(\"trimmed_maj_agree_weat_overall_gender_dist.csv\")"
   ]
  },
  {
   "cell_type": "code",
   "execution_count": 18,
   "metadata": {},
   "outputs": [
    {
     "data": {
      "text/plain": [
       "F    854\n",
       "M    474\n",
       "Name: UNNORMALIZED WEAT GENDER, dtype: int64"
      ]
     },
     "execution_count": 18,
     "metadata": {},
     "output_type": "execute_result"
    }
   ],
   "source": [
    "df_weat_trimmed['UNNORMALIZED WEAT GENDER'].value_counts()"
   ]
  },
  {
   "cell_type": "code",
   "execution_count": null,
   "metadata": {},
   "outputs": [],
   "source": [
    "print(\"Gender Distribution of WEAT\")\n",
    "print(x.to_string())\n",
    "print('\\n')\n",
    "print(\"Gender Distribution of All Agreed and WEAT\")\n",
    "print(\"For reference, 0 is male, and 1 is female\")\n",
    "print(y.to_string())\n",
    "print('\\n')\n",
    "print(\"Gender Distribution of Majority Agreed and WEAT\")\n",
    "print(z.to_string())\n",
    "print('\\n')"
   ]
  },
  {
   "cell_type": "code",
   "execution_count": null,
   "metadata": {},
   "outputs": [],
   "source": [
    "def get_alignment(df):\n",
    "    num_pairs = df.shape[0]//2\n",
    "    for i in range(num_pairs):\n",
    "        if df[df.index[2*i]] < df[df.index[2*i + 1]]:\n",
    "            g = 'M' if df.index[2*i + 1][1] == 0 else 'F'\n",
    "            print(\"{}: {}\".format(df.index[2*i + 1][0], g))\n",
    "        elif df[df.index[2*i]] > df[df.index[2*i + 1]]:\n",
    "            g = 'M' if df.index[2*i][1] == 0 else 'F'\n",
    "            print(\"{}: {}\".format(df.index[2*i][0], g))\n",
    "        else:\n",
    "            print(\"{}: {}\".format(df.index[2*i][0], 'E'))\n",
    "            \n",
    "def get_alignment_weat(df):\n",
    "    num_pairs = df.shape[0]//2\n",
    "    for i in range(num_pairs):\n",
    "        if df[df.index[2*i]] < df[df.index[2*i + 1]]:\n",
    "            print(\"{}: {}\".format(df.index[2*i + 1][0], df.index[2*i + 1][1]))\n",
    "        elif df[df.index[2*i]] > df[df.index[2*i + 1]]:\n",
    "            print(\"{}: {}\".format(df.index[2*i][0], df.index[2*i][1]))\n",
    "        else:\n",
    "            print(\"{}: {}\".format(df.index[2*i][0], 'E'))"
   ]
  },
  {
   "cell_type": "code",
   "execution_count": null,
   "metadata": {},
   "outputs": [],
   "source": [
    "print(\"Dominant Gender of WEAT\")\n",
    "get_alignment_weat(x)\n",
    "print('\\n')\n",
    "print(\"Dominant Gender of All Agreed\")\n",
    "get_alignment(y)\n",
    "print('\\n')\n",
    "print(\"Dominant Gender of Majority Agreed\")\n",
    "get_alignment(z)"
   ]
  },
  {
   "cell_type": "code",
   "execution_count": null,
   "metadata": {},
   "outputs": [],
   "source": [
    "print(\"WEAT Total Gender Distribution For Trimmed Categories\")\n",
    "print(df_weat_trimmed['UNNORMALIZED WEAT GENDER'].value_counts())\n",
    "print('\\n')\n",
    "print(\"Sound Symbolism - All Agreed Total Gender Distribution For Trimmed Categories\")\n",
    "print(df_all_trimmed['Gender'].value_counts())\n",
    "print('\\n')\n",
    "print(\"Sound Symbolism - Majority Agreed Total Gender Distribution For Trimmed Categories\")\n",
    "print(\"For reference, 0 is male, and 1 is female\")\n",
    "print(df_maj_trimmed['Gender'].value_counts())\n",
    "print('\\n')"
   ]
  },
  {
   "cell_type": "markdown",
   "metadata": {},
   "source": [
    "The following commented out cells were for finding most neutral and extreme brands in overlapping cases. Rewriting Below to do so for each model separately."
   ]
  },
  {
   "cell_type": "code",
   "execution_count": null,
   "metadata": {},
   "outputs": [],
   "source": [
    "# print(\"\\nTwenty most gender neutral brands in WEAT based on Logistic Regression\")\n",
    "# k_most_weat = df_weat_trimmed.assign(abs_v = abs(df_weat[\"UNNORMALIZED WEAT\"])).sort_values('abs_v').drop('abs_v', axis=1)\n",
    "# print(\"See k_most_neutral_weat.csv\")\n",
    "# pd.DataFrame(k_most_weat.iloc[:k]).to_csv(\"k_most_neutral_weat.csv\")\n",
    "\n",
    "# df_human = pd.read_csv('../Brand-Name-Gender-Prediction/human_names_coded.csv')\n",
    "# df_human = df_human.drop([\"dataID\"], axis=1)\n",
    "# df_human = df_human.drop([\"Name\"], axis=1)\n",
    "# x = df_human.drop(['Gender', 'is_unique'], axis=1).as_matrix()[:, 1:]\n",
    "# y = df_human[['Gender']].as_matrix().ravel()\n",
    "# model_LR = LogisticRegression()\n",
    "# model_LR.fit(x, y)\n",
    "\n"
   ]
  },
  {
   "cell_type": "code",
   "execution_count": null,
   "metadata": {
    "scrolled": false
   },
   "outputs": [],
   "source": [
    "# df_brands = pd.read_csv('../Brand-Name-Gender-Prediction/brand_names_coded.csv')\n",
    "# df_brands_aaw = df_brands[df_brands['BRAND'].isin(brands_aaw_trimmed)]\n",
    "# brands_prob_aaw = []\n",
    "# for i in range(len(df_brands_aaw.index)):\n",
    "#     feature_vec = df_brands_aaw.iloc[i][3:].as_matrix().ravel().reshape((1, -1))\n",
    "#     x = model_LR.predict_proba(feature_vec)\n",
    "#     brands_prob_aaw.append((df_brands_aaw.iloc[i][1], (abs(x[0][0] - x[0][1])), \"M\" if x[0][0] > x[0][1] else \"F\"))\n",
    "# brands_prob_aaw.sort(key=lambda x: x[1])\n",
    "# brands_prob_aaw = np.asarray(brands_prob_aaw)\n",
    "# print(\"\\nTwenty most gender neutral brands in WEAT and all agreed based on Logistic Regression\")\n",
    "# print(\"Negative indicates more female, positive indicates more male\")\n",
    "# print(\"See k_most_neutral_all_and_weat.csv\")\n",
    "# k_most_all = pd.DataFrame(data={'BRAND': brands_prob_aaw[:k, 0], 'Neutrality Score': brands_prob_aaw[:k, 1], \"Alignment\":brands_prob_aaw[:k, 2] })\n",
    "# pd.DataFrame(k_most_all).to_csv(\"k_most_neutral_all_and_weat.csv\")\n"
   ]
  },
  {
   "cell_type": "code",
   "execution_count": null,
   "metadata": {},
   "outputs": [],
   "source": [
    "# df_brands_maw = df_brands[df_brands['BRAND'].isin(brands_maw_trimmed)]\n",
    "# brands_prob_maw = []\n",
    "# for i in range(len(df_brands_maw.index)):\n",
    "#     feature_vec = df_brands_maw.iloc[i][3:].as_matrix().ravel().reshape((1, -1))\n",
    "#     x = model_LR.predict_proba(feature_vec)\n",
    "#     brands_prob_maw.append((df_brands_maw.iloc[i][1], (abs(x[0][0] - x[0][1])), \"M\" if x[0][0] > x[0][1] else \"F\"))\n",
    "# brands_prob_maw.sort(key=lambda x: x[1])\n",
    "# brands_prob_maw = np.asarray(brands_prob_maw)\n",
    "# print(\"\\nTwenty most gender neutral brands in WEAT and majority agreed based on Logistic Regression\")\n",
    "# print(\"Negative indicates more female, positive indicates more male\")\n",
    "# k_most_maj = pd.DataFrame(data={'BRAND': brands_prob_maw[:k, 0], 'Neutrality Score': brands_prob_maw[:k, 1], \"Alignment\":brands_prob_maw[:k, 2] })\n",
    "# print(\"See k_most_neutral_maj_and_weat.csv\")\n",
    "# pd.DataFrame(k_most_maj).to_csv(\"k_most_neutral_maj_and_weat.csv\")"
   ]
  },
  {
   "cell_type": "code",
   "execution_count": null,
   "metadata": {},
   "outputs": [],
   "source": [
    "# pd.DataFrame(k_most_weat.iloc[-1:-(k//2 + 2):-1]).to_csv(\"k_most_extreme_weat.csv\")"
   ]
  },
  {
   "cell_type": "code",
   "execution_count": null,
   "metadata": {},
   "outputs": [],
   "source": [
    "# flipped_aaw = np.flip(brands_prob_aaw, axis=0)\n",
    "# flipped_maw = np.flip(brands_prob_maw, axis=0)\n",
    "# k_extreme_aaw = pd.DataFrame(data={'BRAND': flipped_aaw[:k//2, 0], 'Neutrality Score': flipped_aaw[:k//2, 1], \"Alignment\":flipped_aaw[:k//2, 2] })\n",
    "# k_extreme_maw = pd.DataFrame(data={'BRAND': flipped_maw[:k//2, 0], 'Neutrality Score': flipped_maw[:k//2, 1], \"Alignment\":flipped_maw[:k//2, 2] })\n",
    "# pd.DataFrame(k_extreme_aaw).to_csv(\"k_most_extreme_all_and_weat.csv\")\n",
    "# pd.DataFrame(k_extreme_maw).to_csv(\"k_most_extreme_maj_and_weat.csv\")"
   ]
  },
  {
   "cell_type": "code",
   "execution_count": null,
   "metadata": {},
   "outputs": [],
   "source": [
    "df_majority = df_majority.reset_index().drop(['index', 'level_0'], axis=1, errors='ignore')\n",
    "df_majority = df_majority.replace({'Gender': {0: 'M', 1:'F'}}) \n",
    "df_weat = df_weat.sort_values('BRAND')\n",
    "df_majority = df_majority.sort_values('Name')\n",
    "df_majority = df_majority.reset_index().drop(['index'], axis=1, errors='ignore')\n",
    "df_weat = df_weat.reset_index().drop(['index', 'level_0'], axis=1, errors='ignore')\n",
    "df_comp = pd.DataFrame()\n",
    "df_comp['BRAND'] = df_weat['BRAND']\n",
    "df_comp['CATEGORY'] = df_weat['CATEGORY']\n",
    "df_comp['MATCH'] = df_weat['UNNORMALIZED WEAT GENDER'].eq(df_majority['Gender'])"
   ]
  },
  {
   "cell_type": "code",
   "execution_count": null,
   "metadata": {},
   "outputs": [],
   "source": []
  },
  {
   "cell_type": "code",
   "execution_count": null,
   "metadata": {},
   "outputs": [],
   "source": [
    "df_comp['Gender'] = df_weat['UNNORMALIZED WEAT GENDER']\n",
    "df_comp['GENDER'] = df_comp.apply(lambda row: row['Gender'] if row['MATCH'] == True else 'N', axis=1)\n",
    "df_comp = df_comp.drop(['Gender'], axis=1)\n",
    "pd.DataFrame(df_comp).to_csv('gender_prediction_match.csv')\n",
    "print(\"\\nSee gender_prediction_match.csv for how the majority agreed sound model and WEAT model matched on gender prediction. \")\n",
    "match_count = df_comp['MATCH'].sum()\n",
    "print(\"We see that {} out of {} match, or {}\".format(match_count, df_comp.shape[0], match_count/df_comp.shape[0]))"
   ]
  },
  {
   "cell_type": "code",
   "execution_count": null,
   "metadata": {},
   "outputs": [],
   "source": [
    "print(\"\\nTwenty most gender neutral brands in WEAT\")\n",
    "k_neutral_weat = df_weat.assign(abs_v = abs(df_weat[\"UNNORMALIZED WEAT\"])).sort_values('abs_v').drop('abs_v', axis=1)\n",
    "print(\"See k_most_neutral_weat.csv\")\n",
    "pd.DataFrame(k_neutral_weat.iloc[:k]).to_csv(\"k_most_neutral_weat.csv\")\n",
    "print(\"See k_most_extreme_male_weat.csv\")\n",
    "print(\"See k_most_extreme_female_weat.csv\")\n",
    "k_extreme_weat = df_weat.assign(abs_v = abs(df_weat[\"UNNORMALIZED WEAT\"])).sort_values('abs_v', ascending=False).drop('abs_v', axis=1)\n",
    "k_most_extreme_male = k_extreme_weat[k_extreme_weat['UNNORMALIZED WEAT GENDER'] == 'M']\n",
    "k_most_extreme_female = k_extreme_weat[k_extreme_weat['UNNORMALIZED WEAT GENDER'] == 'F']\n",
    "pd.DataFrame(k_most_extreme_male.iloc[:k]).to_csv(\"k_most_extreme_male_weat.csv\")\n",
    "pd.DataFrame(k_most_extreme_female.iloc[:k]).to_csv(\"k_most_extreme_female_weat.csv\")\n"
   ]
  },
  {
   "cell_type": "code",
   "execution_count": null,
   "metadata": {},
   "outputs": [],
   "source": [
    "df_human = pd.read_csv('../Brand-Name-Gender-Prediction/human_names_coded.csv')\n",
    "df_human = df_human.drop([\"dataID\"], axis=1)\n",
    "df_human = df_human.drop([\"Name\"], axis=1)\n",
    "x = df_human.drop(['Gender', 'is_unique'], axis=1).as_matrix()[:, 1:]\n",
    "y = df_human[['Gender']].as_matrix().ravel()\n",
    "model_LR = LogisticRegression()\n",
    "model_LR.fit(x, y)\n",
    "df_brands = pd.read_csv('../Brand-Name-Gender-Prediction/brand_names_coded.csv')"
   ]
  },
  {
   "cell_type": "code",
   "execution_count": null,
   "metadata": {},
   "outputs": [],
   "source": [
    "df_majority = pd.read_csv('../Brand-Name-Gender-Prediction/majority_brand_predictions.csv')\n",
    "df_majority = df_majority.reset_index()\n",
    "df_majority.drop(labels=['Old Index', 'index'], axis=1, inplace=True)\n",
    "df_brands_maw = df_brands[df_brands['BRAND'].isin(df_majority['Name'].tolist())]\n",
    "brands_prob_maw = []\n",
    "for i in range(len(df_brands_maw.index)):\n",
    "    feature_vec = df_brands_maw.iloc[i][3:].as_matrix().ravel().reshape((1, -1))\n",
    "    x = model_LR.predict_proba(feature_vec)\n",
    "    brands_prob_maw.append((df_brands_maw.iloc[i][1], df_brands_maw.iloc[i][2], (abs(x[0][0] - x[0][1])), \"M\" if x[0][0] > x[0][1] else \"F\"))\n",
    "brands_prob_maw.sort(key=lambda x: x[2])\n",
    "brands_prob_maw = np.asarray(brands_prob_maw)\n",
    "print(\"\\nTwenty most gender neutral brands in WEAT and majority agreed based on Logistic Regression\")\n",
    "print(\"Negative indicates more female, positive indicates more male\")\n",
    "k_neutral_maj = pd.DataFrame(data={'BRAND': brands_prob_maw[:, 0], 'CATEGORY': brands_prob_maw[:, 1], 'Neutrality Score': brands_prob_maw[:, 2], \"Alignment\":brands_prob_maw[:, 3] })\n",
    "print(k_neutral_maj)\n"
   ]
  },
  {
   "cell_type": "code",
   "execution_count": null,
   "metadata": {},
   "outputs": [],
   "source": [
    "print(\"See k_most_neutral_maj.csv\")\n",
    "pd.DataFrame(k_neutral_maj.iloc[:k]).to_csv(\"k_most_neutral_maj.csv\")\n",
    "\n",
    "print(\"See k_most_extreme_male_maj.csv\")\n",
    "print(\"See k_most_extreme_female_maj.csv\")\n",
    "\n",
    "k_extreme_maj = k_neutral_maj.sort_values('Neutrality Score', ascending=False)\n",
    "k_extreme_maj_male = k_extreme_maj[k_extreme_maj['Alignment'] == 'M']\n",
    "k_extreme_maj_female = k_extreme_maj[k_extreme_maj['Alignment'] == 'F']\n",
    "print(k_extreme_maj_male)\n",
    "\n",
    "\n",
    "pd.DataFrame(k_extreme_maj_male.iloc[:k]).to_csv(\"k_most_extreme_male_maj.csv\")\n",
    "pd.DataFrame(k_extreme_maj_female.iloc[:k]).to_csv(\"k_most_extreme_female_maj.csv\")"
   ]
  },
  {
   "cell_type": "code",
   "execution_count": null,
   "metadata": {},
   "outputs": [],
   "source": [
    "k_extreme_maj[k_extreme_maj['BRAND'].isin(['nina', 'celine', 'buffy'])]"
   ]
  }
 ],
 "metadata": {
  "kernelspec": {
   "display_name": "Python 3",
   "language": "python",
   "name": "python3"
  },
  "language_info": {
   "codemirror_mode": {
    "name": "ipython",
    "version": 3
   },
   "file_extension": ".py",
   "mimetype": "text/x-python",
   "name": "python",
   "nbconvert_exporter": "python",
   "pygments_lexer": "ipython3",
   "version": "3.6.2"
  }
 },
 "nbformat": 4,
 "nbformat_minor": 2
}
