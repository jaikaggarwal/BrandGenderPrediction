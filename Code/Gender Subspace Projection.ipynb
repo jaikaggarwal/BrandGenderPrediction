{
 "cells": [
  {
   "cell_type": "code",
   "execution_count": 1,
   "metadata": {},
   "outputs": [],
   "source": [
    "import gensim.models.keyedvectors as word2vec\n",
    "import time\n",
    "import pandas as pd\n",
    "import numpy as np\n",
    "from sklearn.metrics.pairwise import cosine_similarity\n",
    "from sklearn.decomposition import PCA\n",
    "from sklearn.preprocessing import normalize\n",
    "import os\n",
    "import matplotlib.pyplot as plt\n",
    "from pylab import *"
   ]
  },
  {
   "cell_type": "code",
   "execution_count": null,
   "metadata": {},
   "outputs": [],
   "source": [
    "model = word2vec.KeyedVectors.load_word2vec_format('GoogleNews-vectors-negative300.bin', binary=True)\n",
    "model_vocab = [key.lower() for key in model.vocab.keys()]"
   ]
  },
  {
   "cell_type": "code",
   "execution_count": null,
   "metadata": {},
   "outputs": [],
   "source": [
    "def do_PCA(female, male):\n",
    "    matrix = []\n",
    "    for f, m in zip(female, male):\n",
    "        center = (f + m) / 2\n",
    "        matrix.append(f - center)\n",
    "        matrix.append(m - center)\n",
    "    matrix = np.array(matrix)\n",
    "    pca = PCA(n_components=10)\n",
    "    principal_components = pca.fit(matrix)\n",
    "    print(\"No transform explained variance ration \", pca.explained_variance_ratio_)\n",
    "    with open('principal_components_1.txt', \"w\") as file:\n",
    "        file.write(\"Explained variance ratio: {}\\n\".format(pca.explained_variance_ratio_))\n",
    "        for component in principal_components.components_:\n",
    "            file.write(str(component) + \"\\n\")\n",
    "    return principal_components.components_[0]\n"
   ]
  },
  {
   "cell_type": "code",
   "execution_count": null,
   "metadata": {},
   "outputs": [],
   "source": [
    "def get_simple_alignment(brand, gender_subspace):\n",
    "    try:\n",
    "        word_vec = model.get_vector(brand.capitalize())\n",
    "    except KeyError:\n",
    "        \n",
    "        index = model_vocab.index(brand)\n",
    "        word_vec = model.get_vector(model.index2entity[index])\n",
    "    word_vec = normalize(word_vec.reshape(1, -1))\n",
    "    gen_comp = np.vdot(word_vec, gender_subspace)\n",
    "#     if gen_comp < 0:\n",
    "#         return 'M'\n",
    "#     else:\n",
    "#         return 'F'\n",
    "    return gen_comp"
   ]
  },
  {
   "cell_type": "code",
   "execution_count": null,
   "metadata": {},
   "outputs": [],
   "source": [
    "female = []\n",
    "male = []\n",
    "with open('pairs_paper.txt', 'r') as file:\n",
    "    data = file.readlines()\n",
    "    data = [line.strip() for line in data]\n",
    "    for line in data:\n",
    "        sub = line.split(', ')\n",
    "        fem_vec = model.get_vector(sub[0])\n",
    "        male_vec = model.get_vector(sub[1])\n",
    "        female.append(fem_vec)\n",
    "        male.append(male_vec)\n",
    "        vec = np.subtract(fem_vec, male_vec)\n",
    "        vex[line] = vec\n"
   ]
  },
  {
   "cell_type": "code",
   "execution_count": null,
   "metadata": {},
   "outputs": [],
   "source": [
    "# gender_subspace = do_PCA(female, male).reshape(1, -1)\n",
    "# print(gender_subspace.shape)\n",
    "\n",
    "she_vec = normalize(female[0].reshape(1, -1))\n",
    "he_vec = normalize(male[0].reshape(1, -1))\n",
    "he_she_axis = np.subtract(she_vec, he_vec)\n"
   ]
  },
  {
   "cell_type": "code",
   "execution_count": null,
   "metadata": {},
   "outputs": [],
   "source": [
    "with open('short_paper.txt', 'r') as file:\n",
    "    short_paper = file.readlines()\n",
    "    short_paper = [line.strip() for line in short_paper]\n",
    "\n",
    "with open('long_paper.txt', 'r') as file:\n",
    "    long_paper = file.readlines()\n",
    "    long_paper = [line.strip() for line in long_paper]"
   ]
  },
  {
   "cell_type": "code",
   "execution_count": null,
   "metadata": {},
   "outputs": [],
   "source": [
    "short_df = pd.DataFrame()\n",
    "short_df['words'] = short_paper\n",
    "#short_df['alignment_gs'] = short_df['words'].apply(lambda x: get_gender_alignment(x, she_norm, he_norm, gender_subspace))\n",
    "#short_df['simple_gs'] = short_df['words'].apply(lambda x: get_simple_alignment(x, gender_subspace))\n",
    "#short_df['alignment_hsa'] = short_df['words'].apply(lambda x: get_gender_alignment(x, she_norm, he_norm, he_she_axis))\n",
    "short_df['simple_hsa'] = short_df['words'].apply(lambda x: get_simple_alignment(x, he_she_axis))\n",
    "short_df['category'] = 'BASELINE'"
   ]
  },
  {
   "cell_type": "code",
   "execution_count": null,
   "metadata": {},
   "outputs": [],
   "source": [
    "long_df = pd.DataFrame()\n",
    "long_df['words'] = long_paper\n",
    "#long_df['alignment_gs'] = long_df['words'].apply(lambda x: get_gender_alignment(x, she_norm, he_norm, gender_subspace))\n",
    "#long_df['simple_gs'] = long_df['words'].apply(lambda x: get_simple_alignment(x, gender_subspace))\n",
    "#long_df['alignment_hsa'] = long_df['words'].apply(lambda x: get_gender_alignment(x, she_norm, he_norm, he_she_axis))\n",
    "long_df['simple_hsa'] = long_df['words'].apply(lambda x: get_simple_alignment(x, he_she_axis))\n",
    "long_df['category'] = 'BASELINE'"
   ]
  },
  {
   "cell_type": "code",
   "execution_count": null,
   "metadata": {},
   "outputs": [],
   "source": [
    "# short_hs_order = short_df.sort_values(by=['simple_hsa'])['words'].tolist()\n",
    "# short_gs_order = short_df.sort_values(by=['simple_gs'])['words'].tolist()\n",
    "long_hs_order = long_df.sort_values(by=['simple_hsa'])['words'].tolist()\n",
    "# long_gs_order = long_df.sort_values(by=['simple_gs'])['words'].tolist()"
   ]
  },
  {
   "cell_type": "code",
   "execution_count": null,
   "metadata": {},
   "outputs": [],
   "source": [
    "long_df.sort_values(by=['simple_hsa'])"
   ]
  },
  {
   "cell_type": "code",
   "execution_count": null,
   "metadata": {},
   "outputs": [],
   "source": [
    "df_brands = pd.read_csv('brand_names_coded_no_duplicates.csv')\n",
    "df_brands = df_brands[df_brands['BRAND'].isin(model_vocab)]\n",
    "print(df_brands.shape)\n",
    "df_brands['ALIGNMENT'] = df_brands['BRAND'].apply(lambda x: get_simple_alignment(x, he_she_axis))\n",
    "# pd.DataFrame(df).to_csv('gender_projection_results.csv')\n",
    "df_brands = df_brands.reset_index()\n",
    "df_brands = df_brands[['BRAND', 'CATEGORY', 'ALIGNMENT']]"
   ]
  },
  {
   "cell_type": "code",
   "execution_count": null,
   "metadata": {},
   "outputs": [],
   "source": [
    "df_final = pd.DataFrame()\n",
    "df_final['name'] = pd.concat([long_df['words'], df_brands['BRAND']])\n",
    "df_final['category'] = pd.concat([long_df['category'], df_brands['CATEGORY']])\n",
    "df_final['alignment'] = pd.concat([long_df['simple_hsa'], df_brands['ALIGNMENT']])\n",
    "df_final.sort_values(by='alignment').to_csv('he_she_alignment.csv')"
   ]
  },
  {
   "cell_type": "code",
   "execution_count": null,
   "metadata": {
    "scrolled": true
   },
   "outputs": [],
   "source": [
    "df_final.sort_values(by=['alignment'])\n",
    "keep = df_brands['BRAND'].tolist() + ['he', 'she']\n",
    "df_final = df_final[df_final['name'].isin(keep)].sort_values(by='alignment')\n",
    "df_final\n",
    "df_final.sort_values(by='alignment').to_csv('he_she_alignment_just_brands.csv')"
   ]
  },
  {
   "cell_type": "code",
   "execution_count": null,
   "metadata": {},
   "outputs": [],
   "source": [
    "df_final['gender'] = df_final['alignment'].apply(lambda x: 'M' if x < 0 else 'F')\n",
    "df_final['gender'].value_counts()\n",
    "df_final.drop_duplicates(subset='name').groupby('category')['gender'].value_counts().to_csv('he_she_category_value_counts.csv')\n"
   ]
  },
  {
   "cell_type": "code",
   "execution_count": null,
   "metadata": {},
   "outputs": [],
   "source": [
    "# df_plot = pd.read_csv('he_she_alignment_just_brands.csv')\n",
    "# df_plot = df_plot[df_plot['keep'] == 1]\n",
    "# df_plot['jitter'] = df_plot['keep'].apply(lambda x: np.random.randint(-20, 20))"
   ]
  },
  {
   "cell_type": "code",
   "execution_count": null,
   "metadata": {},
   "outputs": [],
   "source": [
    "# rcParams['font.family'] = 'sans-serif'\n",
    "# fig = plt.figure(figsize=(15, 12))\n",
    "# ax = fig.add_subplot(111)\n",
    "# for index, row in df_plot.iterrows():\n",
    "#     plt.scatter(row['alignment'], row['jitter'], c='black', s=1000, marker=r\"$ {} $\".format(row['name'])) \n",
    "# left,right = ax.get_xlim()\n",
    "# low,high = ax.get_ylim()\n",
    "# arrow( left, 0, right -left, 0, length_includes_head = False)\n",
    "# arrow( 0, low, 0, high-low, length_includes_head = False) \n",
    "\n",
    "\n",
    "# plt.show()"
   ]
  },
  {
   "cell_type": "code",
   "execution_count": null,
   "metadata": {},
   "outputs": [],
   "source": [
    "#Filter out brands that are names\n",
    "df_k = pd.read_csv('check_kantrowitz.csv')\n",
    "df_ip = pd.read_csv('check_ipums.csv')\n",
    "df_napp = pd.read_csv('check_napp.csv')\n",
    "df_ssa = pd.read_csv('check_ssa.csv')\n",
    "\n",
    "df_k = df_k.transpose()\n",
    "k = df_k[df_k[1].isin(['male', 'female', 'either'])][0].tolist()\n",
    "ip = df_ip.loc[0].tolist()[1:]\n",
    "napp = df_napp.loc[0].tolist()[1:]\n",
    "ssa = df_ssa.loc[0].tolist()[1:]"
   ]
  },
  {
   "cell_type": "code",
   "execution_count": null,
   "metadata": {},
   "outputs": [],
   "source": [
    "all_gendered_brands = list(set(k).union(set(ip)).union(set(napp)).union(set(ssa)))\n",
    "df_no_names = df_final[~df_final['name'].isin(all_gendered_brands)]\n",
    "df_no_names['gender'] = df_no_names['alignment'].apply(lambda x: 'M' if x < 0 else 'F')\n",
    "df_no_names.drop_duplicates(subset='name').sort_values(by='alignment').to_csv('he_she_alignment_just_brands_no_names.csv')\n",
    "df_no_names.drop_duplicates(subset='name').groupby('category')['gender'].value_counts().to_csv('he_she_category_value_counts_no_names.csv')"
   ]
  },
  {
   "cell_type": "code",
   "execution_count": null,
   "metadata": {},
   "outputs": [],
   "source": [
    "# F    1128\n",
    "# M     485\n",
    "# Name: gender, dtype: int64\n",
    "\n",
    "# F    1025\n",
    "# M     448\n",
    "# Name: gender, dtype: int64\n",
    "        \n",
    "#F    1054\n",
    "# M     556\n",
    "# Name: UNNORMALIZED WEAT GENDER, dtype: int64\n",
    "\n",
    "# F    854\n",
    "# M    474\n",
    "# Name: UNNORMALIZED WEAT GENDER, dtype: int64\n",
    "df_plot"
   ]
  }
 ],
 "metadata": {
  "kernelspec": {
   "display_name": "Python 3",
   "language": "python",
   "name": "python3"
  },
  "language_info": {
   "codemirror_mode": {
    "name": "ipython",
    "version": 3
   },
   "file_extension": ".py",
   "mimetype": "text/x-python",
   "name": "python",
   "nbconvert_exporter": "python",
   "pygments_lexer": "ipython3",
   "version": "3.6.2"
  }
 },
 "nbformat": 4,
 "nbformat_minor": 2
}
